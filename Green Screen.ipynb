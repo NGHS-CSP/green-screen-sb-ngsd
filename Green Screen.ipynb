{
 "cells": [
  {
   "cell_type": "code",
   "execution_count": 8,
   "metadata": {},
   "outputs": [],
   "source": [
    "from PIL import Image\n",
    "from PIL import Image, ImageDraw, ImageFont\n",
    "\n",
    "# open green screen image in PIL\n",
    "GreenScreenFile = Image.open('greenscreen.png')\n",
    "GreenScreen = GreenScreenFile.convert(\"RGBA\")\n",
    "\n",
    "\n",
    "# access pixel data in PIL\n",
    "pixdata = GreenScreen.load()\n",
    "width, height = GreenScreen.size\n",
    "\n",
    "# check every pixel for green and then change the alpha channel of those pixels to 0 ... transparent\n",
    "for y in range(height):\n",
    "    for x in range(width):\n",
    "        if pixdata[x, y][0] <150 and pixdata[x, y][1] > 150 and pixdata[x,y][2]<150: \n",
    "        #if pixdata[x,y][0] *1.1 < pixdata[x, y][1] and pixdata[x,y][2] *1.1 < pixdata[x, y][1] and pixdata[x,y][1]>140:\n",
    "            pixdata[x, y] = (255, 255, 255, 0)\n",
    "            \n",
    "# saves image file\n",
    "GreenScreen.save(\"greenscreen_modified.png\", \"PNG\")\n",
    "\n",
    "Background = Image.open('Egypt.png')\n",
    "\n",
    "\n",
    "\n",
    "GreenScreen= GreenScreen.resize((2048, 1365)) \n",
    "\n",
    "Background.paste(GreenScreen, (500, 500), mask=GreenScreen) \n",
    "draw = ImageDraw.Draw(Background)\n",
    "\n",
    "\n",
    "font = ImageFont.truetype(\"LemonMilk.otf\", 160)\n",
    "draw.text((300,100), \"PROM 2019\", fill=(255,255,0),font=font)\n",
    "\n",
    "\n",
    "# Display Image\n",
    "\n",
    "Background.show()\n",
    "Background.save(\"output.png\")\n",
    "\n"
   ]
  }
 ],
 "metadata": {
  "kernelspec": {
   "display_name": "Python 3",
   "language": "python",
   "name": "python3"
  },
  "language_info": {
   "codemirror_mode": {
    "name": "ipython",
    "version": 3
   },
   "file_extension": ".py",
   "mimetype": "text/x-python",
   "name": "python",
   "nbconvert_exporter": "python",
   "pygments_lexer": "ipython3",
   "version": "3.7.1"
  }
 },
 "nbformat": 4,
 "nbformat_minor": 2
}
